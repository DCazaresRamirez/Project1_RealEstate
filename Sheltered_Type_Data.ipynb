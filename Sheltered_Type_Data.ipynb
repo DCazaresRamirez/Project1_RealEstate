{
 "cells": [
  {
   "cell_type": "code",
   "execution_count": null,
   "id": "df63d680-4ec1-4509-962a-123ed37ee290",
   "metadata": {},
   "outputs": [],
   "source": [
    "import pandas as pd\n",
    "import matplotlib.pyplot as plt\n",
    "\n",
    "# Assuming 'sheltered_overall_totals' is your main DataFrame with relevant data\n",
    "# Filter data by specific dates\n",
    "states_to_include = ['HI', 'UT', 'CO', 'MA', 'CA', 'LA', 'ND', 'MS', 'IL', 'NM', 'AZ']\n",
    "\n",
    "# Filter the DataFrame to include only the specified states\n",
    "sheltered_state_specific_totals = sheltered_overall_totals[sheltered_overall_totals['State'].isin(states_to_include)]\n",
    "\n",
    "# Reshape data for line plot\n",
    "sheltered_data_long = sheltered_state_specific_totals.melt(id_vars=['State'], \n",
    "                                                           value_vars=[col for col in sheltered_state_specific_totals.columns if 'Sheltered' in col],\n",
    "                                                           var_name='Year', value_name='Sheltered')\n",
    "# Extract the year from the 'Year' column\n",
    "sheltered_data_long['Year'] = sheltered_data_long['Year'].str.extract('(\\d+)').astype(int)\n",
    "\n",
    "# Pivot the table to get years as columns\n",
    "sheltered_data_pivot = sheltered_data_long.pivot(index='State', columns='Year', values='Sheltered').reset_index()\n",
    "\n",
    "# Ensure we're only keeping the selected states\n",
    "sheltered_data_pivot = sheltered_data_pivot[sheltered_data_pivot['State'].isin(states_to_include)]\n"
   ]
  }
 ],
 "metadata": {
  "kernelspec": {
   "display_name": "Python 3 (ipykernel)",
   "language": "python",
   "name": "python3"
  },
  "language_info": {
   "codemirror_mode": {
    "name": "ipython",
    "version": 3
   },
   "file_extension": ".py",
   "mimetype": "text/x-python",
   "name": "python",
   "nbconvert_exporter": "python",
   "pygments_lexer": "ipython3",
   "version": "3.10.14"
  }
 },
 "nbformat": 4,
 "nbformat_minor": 5
}
