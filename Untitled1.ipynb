{
 "cells": [
  {
   "cell_type": "code",
   "execution_count": 5,
   "id": "75667d39-006c-4a67-82ef-585d472fa07c",
   "metadata": {},
   "outputs": [
    {
     "name": "stdout",
     "output_type": "stream",
     "text": [
      "Compiled CSV file saved at: /Users/syedshahid/Project 1/Project1_RealEstate/compiled_data.csv\n"
     ]
    }
   ],
   "source": [
    "import os\n",
    "import pandas as pd\n",
    "\n",
    "# Define the path to the folder containing the CSV files\n",
    "csv_folder_path = \"/Users/syedshahid/Project 1/Project1_RealEstate/\"\n",
    "\n",
    "# Create an empty list to store DataFrames\n",
    "dfs = []\n",
    "\n",
    "# Iterate over each year from 2007 to 2023\n",
    "for year in range(2007, 2024):\n",
    "    # Construct the file name for the current year\n",
    "    file_name = f\"{year}_data.csv\"\n",
    "    file_path = os.path.join(csv_folder_path, file_name)\n",
    "    \n",
    "    # Check if the CSV file exists for the current year\n",
    "    if os.path.isfile(file_path):\n",
    "        # Read the CSV file into a DataFrame\n",
    "        df = pd.read_csv(file_path)\n",
    "        \n",
    "        # Add the 'Year' column\n",
    "        df['Year'] = year\n",
    "        \n",
    "        # Append the DataFrame to the list\n",
    "        dfs.append(df)\n",
    "    else:\n",
    "        print(f\"CSV file not found for year {year}.\")\n",
    "\n",
    "# Concatenate all DataFrames into a single DataFrame\n",
    "if dfs:\n",
    "    compiled_data = pd.concat(dfs, ignore_index=True)\n",
    "\n",
    "    # Define the path to save the compiled CSV file\n",
    "    compiled_csv_file_path = os.path.join(csv_folder_path, \"compiled_data.csv\")\n",
    "\n",
    "    # Write the compiled DataFrame to a CSV file\n",
    "    compiled_data.to_csv(compiled_csv_file_path, index=False)\n",
    "\n",
    "    print(\"Compiled CSV file saved at:\", compiled_csv_file_path)\n",
    "else:\n",
    "    print(\"No CSV files found.\")\n"
   ]
  },
  {
   "cell_type": "code",
   "execution_count": null,
   "id": "10320a52-0bf1-419c-9d65-813a3c8fbebc",
   "metadata": {},
   "outputs": [],
   "source": []
  }
 ],
 "metadata": {
  "kernelspec": {
   "display_name": "Python 3 (ipykernel)",
   "language": "python",
   "name": "python3"
  },
  "language_info": {
   "codemirror_mode": {
    "name": "ipython",
    "version": 3
   },
   "file_extension": ".py",
   "mimetype": "text/x-python",
   "name": "python",
   "nbconvert_exporter": "python",
   "pygments_lexer": "ipython3",
   "version": "3.10.14"
  }
 },
 "nbformat": 4,
 "nbformat_minor": 5
}
